{
  "cells": [
    {
      "cell_type": "markdown",
      "metadata": {
        "id": "view-in-github",
        "colab_type": "text"
      },
      "source": [
        "<a href=\"https://colab.research.google.com/github/3thanhoeft/NLP_Exercise_1/blob/main/Assignment_1_Ethan_Mar_Anna_(3).ipynb\" target=\"_parent\"><img src=\"https://colab.research.google.com/assets/colab-badge.svg\" alt=\"Open In Colab\"/></a>"
      ]
    },
    {
      "cell_type": "markdown",
      "id": "67406736-1f6a-477a-89a3-355581f22f07",
      "metadata": {
        "id": "67406736-1f6a-477a-89a3-355581f22f07"
      },
      "source": [
        "# ASSIGNMENT 1: Zipf's Law of Abbreviation (code)"
      ]
    },
    {
      "cell_type": "markdown",
      "id": "618bf6a9-f0d9-4278-93a4-1b428586f479",
      "metadata": {
        "id": "618bf6a9-f0d9-4278-93a4-1b428586f479"
      },
      "source": [
        "## by Anna Calonge, Ethan Hoeft, Mar Segalés"
      ]
    },
    {
      "cell_type": "markdown",
      "id": "dd896860-cb52-443b-8fa7-fc734018ba14",
      "metadata": {
        "id": "dd896860-cb52-443b-8fa7-fc734018ba14"
      },
      "source": [
        "### Leaves of Grass by Walt Whitman:"
      ]
    },
    {
      "cell_type": "markdown",
      "id": "04893fb3-7405-45c1-ac21-1d22519fdea1",
      "metadata": {
        "id": "04893fb3-7405-45c1-ac21-1d22519fdea1"
      },
      "source": [
        "In the first place, we have to import the 're' module to be able to use regular expressions:"
      ]
    },
    {
      "cell_type": "code",
      "execution_count": null,
      "id": "3c489944-d1f9-41ee-a368-9d8e54e09489",
      "metadata": {
        "id": "3c489944-d1f9-41ee-a368-9d8e54e09489"
      },
      "outputs": [],
      "source": [
        "import re"
      ]
    },
    {
      "cell_type": "markdown",
      "id": "6476820e-98fa-42e2-b8ff-101c2cd3d611",
      "metadata": {
        "id": "6476820e-98fa-42e2-b8ff-101c2cd3d611"
      },
      "source": [
        "Next, in order to have access to the text in our .txt file (which we downloaded from ProjectGutenberg website) we use Python's open() function on read mode (hence the 'r'). We assign the action performed by this function to a new variable which we decide to call \"newfile\". Since the original file (leavesofgrass.txt) may contain some special characters, we remove them by opening the file specifying the encoding: utf-8."
      ]
    },
    {
      "cell_type": "code",
      "execution_count": null,
      "id": "6cedc1a4-8473-4f4f-acaa-be8a57bf0e46",
      "metadata": {
        "id": "6cedc1a4-8473-4f4f-acaa-be8a57bf0e46"
      },
      "outputs": [],
      "source": [
        "newfile = open(\"leavesofgrass.txt\",'r', encoding='utf-8')"
      ]
    },
    {
      "cell_type": "markdown",
      "id": "a27f615e-9f94-4890-9cbd-bfca0a4b95c7",
      "metadata": {
        "id": "a27f615e-9f94-4890-9cbd-bfca0a4b95c7"
      },
      "source": [
        "Now, we assign all the content of our document to the new variable \"entire_book\" as a single string:"
      ]
    },
    {
      "cell_type": "code",
      "execution_count": null,
      "id": "d9301d72-0cc8-421f-909e-7f3337e1299c",
      "metadata": {
        "id": "d9301d72-0cc8-421f-909e-7f3337e1299c"
      },
      "outputs": [],
      "source": [
        "entire_book = newfile.read()"
      ]
    },
    {
      "cell_type": "markdown",
      "id": "39ca0bd4-f203-44e6-a3c7-dbde71f0734c",
      "metadata": {
        "id": "39ca0bd4-f203-44e6-a3c7-dbde71f0734c"
      },
      "source": [
        "We proceed to apply the .lower() function to our string (\"entire_book\") so that all the uppercased letters become lowercased and we assign this to the new variable \"lower_case_text\". We take this measure so that Python doesn't identify as different words those that begin with a capital letter (e.g. \"the\" and \"The\"):"
      ]
    },
    {
      "cell_type": "code",
      "execution_count": null,
      "id": "5111e727-5a0d-4d35-a15e-d07f5b67964e",
      "metadata": {
        "id": "5111e727-5a0d-4d35-a15e-d07f5b67964e"
      },
      "outputs": [],
      "source": [
        "lower_case_text = entire_book.lower()"
      ]
    },
    {
      "cell_type": "markdown",
      "id": "e42ab42b-7bae-44f2-8a97-64bfc8cdbc31",
      "metadata": {
        "id": "e42ab42b-7bae-44f2-8a97-64bfc8cdbc31"
      },
      "source": [
        "After that, we substitute all those characters that aren't alphanumerical (such as apostrophes, underscores, etc.) with a space by using the function re.sub() and the following regular expression: \"[\\W_]\""
      ]
    },
    {
      "cell_type": "markdown",
      "id": "bebbe5c2-ee60-4a1e-9861-55848dd4cb09",
      "metadata": {
        "id": "bebbe5c2-ee60-4a1e-9861-55848dd4cb09"
      },
      "source": [
        "The exact meaning of each component in this regular expression is:\n",
        "- \"[]\" represent a set of characters to match\n",
        "- \"\\W\" matches all those non-alphanumerical characters, without taking into account the underscore, hence:\n",
        "- we add \"_\" within the set so it takes this symbol into account"
      ]
    },
    {
      "cell_type": "markdown",
      "id": "1dc62981-4fa6-4719-8566-cf586d56744b",
      "metadata": {
        "id": "1dc62981-4fa6-4719-8566-cf586d56744b"
      },
      "source": [
        "We incorporate the text with all these new substitutions to the new variable \"no_symbols\":"
      ]
    },
    {
      "cell_type": "code",
      "execution_count": null,
      "id": "14f12f8f-19bc-460d-90cb-4b2b474a9473",
      "metadata": {
        "id": "14f12f8f-19bc-460d-90cb-4b2b474a9473"
      },
      "outputs": [],
      "source": [
        "no_symbols = re.sub(\"[\\W_]\", \" \", lower_case_text)"
      ]
    },
    {
      "cell_type": "markdown",
      "id": "2f17144d-5ad2-4ce7-9d62-283dd8af9f76",
      "metadata": {
        "id": "2f17144d-5ad2-4ce7-9d62-283dd8af9f76"
      },
      "source": [
        "We now proceed to apply the re.findall() function to our \"no_symbols\" string with the regular expression \"\\b[\\w]+\\b\" in order to find each isolated word that the text contains. Since the output of the function used is always list, the variable \"list_text\" is NOT a string like the previous variables; it's a list consisting on all the words and numbers in the text."
      ]
    },
    {
      "cell_type": "markdown",
      "id": "16f8388c-22e3-4c9d-9e22-99eb230b2d95",
      "metadata": {
        "id": "16f8388c-22e3-4c9d-9e22-99eb230b2d95"
      },
      "source": [
        "The exact meaning of each component in this regular expression is:\n",
        "- \"[]\" represent a set of characters to match\n",
        "- \"\\w\" is a character class that matches all alphanumerical characters and underscores (but let's remember that we removed all underscores in the previous step)\n",
        "- after the set \"[\\w]\" we add the symbol \"+\", which greedily matches the expression to its left 1 or more times. We use the \"+\" symbol because all words have at least one letter\n",
        "- \"\\b\" matches the boundary (or empty string) at the start and end of a word, that's why we put it both at the beginning and at the end of our regular expression"
      ]
    },
    {
      "cell_type": "markdown",
      "id": "0977c75b-c967-439a-9090-b8292b4198df",
      "metadata": {
        "id": "0977c75b-c967-439a-9090-b8292b4198df"
      },
      "source": [
        "Note that we add an 'r' before the regular expression, which denotes \"raw string\", and it is used to avoid scape characters such as \"b\" (backspace):"
      ]
    },
    {
      "cell_type": "code",
      "execution_count": null,
      "id": "4b68eea1-91f3-42e8-aee9-88718d2adfa5",
      "metadata": {
        "id": "4b68eea1-91f3-42e8-aee9-88718d2adfa5"
      },
      "outputs": [],
      "source": [
        "list_text = re.findall(r\"\\b[\\w]+\\b\", no_symbols)"
      ]
    },
    {
      "cell_type": "markdown",
      "id": "0ade2626-2dfd-4d19-8ce1-112e6a47088c",
      "metadata": {
        "id": "0ade2626-2dfd-4d19-8ce1-112e6a47088c"
      },
      "source": [
        "After that, we create an empty dictionary named \"dict_count\":"
      ]
    },
    {
      "cell_type": "code",
      "execution_count": null,
      "id": "b62153f5-9299-484f-9c96-3763b2c0b604",
      "metadata": {
        "id": "b62153f5-9299-484f-9c96-3763b2c0b604"
      },
      "outputs": [],
      "source": [
        "dict_count = {}"
      ]
    },
    {
      "cell_type": "markdown",
      "id": "d07b545a-2d64-430e-b492-c682dc11b511",
      "metadata": {
        "id": "d07b545a-2d64-430e-b492-c682dc11b511"
      },
      "source": [
        "For every word (for every x) present in the variable \"list_text\" created two steps before, we tell the program to:\n",
        "- in the case that the word (if...) is NOT found in the dictionary, create a new key under the name of that same word and assign it a value of 1.\n",
        "- in the case that the previous condition is not fulfilled (else...), add 1 to the preexistent value of the key associated to that word."
      ]
    },
    {
      "cell_type": "markdown",
      "id": "03b8d3da-8232-4388-bb3f-bc9a314592bc",
      "metadata": {
        "id": "03b8d3da-8232-4388-bb3f-bc9a314592bc"
      },
      "source": [
        "For example:\n",
        "Let's imagine our text begins with the word \"the\". When the loop starts running, since \"the\" isn't yet present in our dictionary, the first condition is satisfied and therefore a new key with the name \"the\" is created and assigned a value of 1. Later on, whenever the loop encounters another \"the\", the second condition is satisfied and, therefore, 1 is added to the preexistent value, which will now remain as 2 until the loop finds another \"the\":"
      ]
    },
    {
      "cell_type": "code",
      "execution_count": null,
      "id": "e1ef8317-5aea-4c30-8a14-c02096ff8c1d",
      "metadata": {
        "id": "e1ef8317-5aea-4c30-8a14-c02096ff8c1d"
      },
      "outputs": [],
      "source": [
        "for x in list_text:\n",
        "    if x not in dict_count:\n",
        "        dict_count[x] = 1\n",
        "    else:\n",
        "        dict_count[x] = dict_count[x] + 1"
      ]
    },
    {
      "cell_type": "markdown",
      "id": "7b4b62c9-6046-4905-95f3-87706b273e05",
      "metadata": {
        "id": "7b4b62c9-6046-4905-95f3-87706b273e05"
      },
      "source": [
        "Finally, to be able to display our dictionary from most frequent words to less frequent words, we import the module \"operator\" and, then, from this module, we import the function .itemgetter(), which allows us to arrange the dictionary according to either keys or values.\n",
        "We apply the function sorted() to our dictionary (and add dict() to it because both our input and output are dictionaries) and we assign this to the new variable \"arranged_dict_count\".\n",
        "Since we want our dictionary sorted according to our values, we put \"1\" inside the parenthesis of our function .itemgetter() (i.e. \"itemgetter(1)\") instead of 0 (which would sort the dictionary by its keys).\n",
        "This function is predetermined to arrange from lower to higher in the case of numbers, and since we want the most frequent words to be displayed at the beginning, we need to reverse this. That's why add the following: reverse=True."
      ]
    },
    {
      "cell_type": "code",
      "execution_count": null,
      "id": "9c5833b8-4523-48cf-9e82-f3cabed833e2",
      "metadata": {
        "id": "9c5833b8-4523-48cf-9e82-f3cabed833e2"
      },
      "outputs": [],
      "source": [
        "import operator\n",
        "from operator import itemgetter\n",
        "arranged_dict_count = dict(sorted(dict_count.items(), key=operator.itemgetter(1), reverse=True))"
      ]
    },
    {
      "cell_type": "markdown",
      "id": "3f599c9d-faec-403d-a4d3-4dfd809c727d",
      "metadata": {
        "id": "3f599c9d-faec-403d-a4d3-4dfd809c727d"
      },
      "source": [
        "### Calculating the means:"
      ]
    },
    {
      "cell_type": "markdown",
      "id": "6784547a-3875-47be-99f3-cd158096517a",
      "metadata": {
        "id": "6784547a-3875-47be-99f3-cd158096517a"
      },
      "source": [
        "In order to calculate the mean of the word lengths, in the first place, we need to obtain a list with the lengths of the 12400 words we have in our first sample. To do so, we create an empty list and then apply a loop which will append the length of each key of our 'arranged_dict_count' dictionary to the new list:"
      ]
    },
    {
      "cell_type": "code",
      "execution_count": null,
      "id": "61b36d58-5be9-46a5-83ed-52c59952c1ec",
      "metadata": {
        "id": "61b36d58-5be9-46a5-83ed-52c59952c1ec"
      },
      "outputs": [],
      "source": [
        "word_lengths_list = []"
      ]
    },
    {
      "cell_type": "code",
      "execution_count": null,
      "id": "22768fd2-f9c1-45f2-bc55-c9a9ae25421a",
      "metadata": {
        "tags": [],
        "id": "22768fd2-f9c1-45f2-bc55-c9a9ae25421a",
        "outputId": "391c5ace-71a8-45da-c27d-7387278188b3"
      },
      "outputs": [
        {
          "data": {
            "text/plain": [
              "12400"
            ]
          },
          "execution_count": 11,
          "metadata": {},
          "output_type": "execute_result"
        }
      ],
      "source": [
        "for x in arranged_dict_count:\n",
        "    word_lengths_list.append(len(x))\n",
        "len(word_lengths_list)"
      ]
    },
    {
      "cell_type": "markdown",
      "id": "18665445-a407-476f-b1a4-baabf14fee24",
      "metadata": {
        "id": "18665445-a407-476f-b1a4-baabf14fee24"
      },
      "source": [
        "Then, we create a new list corresponding to just the 50 first words by adscribing the 50 first elements of the list \"word_lengths_list\" to a new list. To calculate the mean, we use the function sum() applied to our new list of 50 items and then divide it by the length of this list (50)."
      ]
    },
    {
      "cell_type": "markdown",
      "id": "6a2aff49-e164-4f0e-96da-d13f5528074f",
      "metadata": {
        "id": "6a2aff49-e164-4f0e-96da-d13f5528074f"
      },
      "source": [
        "50 first and 50 last words - means:"
      ]
    },
    {
      "cell_type": "code",
      "execution_count": null,
      "id": "5cb7231b-4216-42cf-9fa5-845002462474",
      "metadata": {
        "tags": [],
        "id": "5cb7231b-4216-42cf-9fa5-845002462474",
        "outputId": "65242e1a-a4f7-4a09-eb5e-27bc7c6f5000"
      },
      "outputs": [
        {
          "data": {
            "text/plain": [
              "2.82"
            ]
          },
          "execution_count": 12,
          "metadata": {},
          "output_type": "execute_result"
        }
      ],
      "source": [
        "word_length_50_first_list = word_lengths_list[0:50]\n",
        "sum(word_length_50_first_list) / len(word_length_50_first_list)"
      ]
    },
    {
      "cell_type": "markdown",
      "id": "f03cf029-d194-4d77-b795-0676b2b72fab",
      "metadata": {
        "id": "f03cf029-d194-4d77-b795-0676b2b72fab"
      },
      "source": [
        "We do the same thing but for the last 50 elements:"
      ]
    },
    {
      "cell_type": "code",
      "execution_count": null,
      "id": "0ac8262d-e48f-421b-aabc-49f01b8e921c",
      "metadata": {
        "id": "0ac8262d-e48f-421b-aabc-49f01b8e921c",
        "outputId": "2d434c87-56e9-4b82-9936-1f603c3c01af"
      },
      "outputs": [
        {
          "data": {
            "text/plain": [
              "7.52"
            ]
          },
          "execution_count": 13,
          "metadata": {},
          "output_type": "execute_result"
        }
      ],
      "source": [
        "word_length_50_last_list = word_lengths_list[-50:]\n",
        "sum(word_length_50_last_list) / len(word_length_50_last_list)"
      ]
    },
    {
      "cell_type": "markdown",
      "id": "14be9fdf-5ca5-41b2-948e-42afde75f230",
      "metadata": {
        "id": "14be9fdf-5ca5-41b2-948e-42afde75f230"
      },
      "source": [
        "### Creating the graph:"
      ]
    },
    {
      "cell_type": "markdown",
      "id": "0a1fcc7c-dbbb-470e-af7a-500927ae6d07",
      "metadata": {
        "id": "0a1fcc7c-dbbb-470e-af7a-500927ae6d07"
      },
      "source": [
        "To be able to create graphs in Python, we import the library 'matplotlib.pyplot' under the abbreviation 'plt'. Next, we create the list that will appear on the x axis and that corresponds to the names of the categories the PoS tagger identified. We do the same thing for the y axis, where the frequency of each category will figure."
      ]
    },
    {
      "cell_type": "code",
      "execution_count": null,
      "id": "b386510c-1ab0-4fd2-80ac-69a3007e9d3a",
      "metadata": {
        "id": "b386510c-1ab0-4fd2-80ac-69a3007e9d3a"
      },
      "outputs": [],
      "source": [
        "wordlength_list = []\n",
        "for x in arranged_dict_count:\n",
        "    wordlength_list.append(len(x))"
      ]
    },
    {
      "cell_type": "markdown",
      "id": "791971b8-be3c-4b0e-b973-4e405686d879",
      "metadata": {
        "id": "791971b8-be3c-4b0e-b973-4e405686d879"
      },
      "source": [
        "We only wish to display the first 100 most common words:"
      ]
    },
    {
      "cell_type": "code",
      "execution_count": null,
      "id": "df47aa5d-c714-4202-8dc8-7f5688d9ab65",
      "metadata": {
        "id": "df47aa5d-c714-4202-8dc8-7f5688d9ab65"
      },
      "outputs": [],
      "source": [
        "wordlength_list_250 = wordlength_list[0:250]"
      ]
    },
    {
      "cell_type": "code",
      "execution_count": null,
      "id": "07cda9c0-f17f-4aaa-88a1-650c7d45244b",
      "metadata": {
        "id": "07cda9c0-f17f-4aaa-88a1-650c7d45244b"
      },
      "outputs": [],
      "source": [
        "rank_list = []\n",
        "for x in range(1,251):\n",
        "    string = \"rank \" + str(x)\n",
        "    rank_list.append(string)"
      ]
    },
    {
      "cell_type": "code",
      "execution_count": null,
      "id": "288d2b9a-9841-4c7f-80fe-d4e133b731b8",
      "metadata": {
        "id": "288d2b9a-9841-4c7f-80fe-d4e133b731b8"
      },
      "outputs": [],
      "source": [
        "import matplotlib.pyplot as plt"
      ]
    },
    {
      "cell_type": "code",
      "execution_count": null,
      "id": "94906ccb-157c-4105-bdd2-178327cb8c0f",
      "metadata": {
        "id": "94906ccb-157c-4105-bdd2-178327cb8c0f",
        "outputId": "ba969cde-f97c-42b3-a1af-a9fb27a49f24"
      },
      "outputs": [
        {
          "data": {
            "image/png": "[encoded data removed]",
            "text/plain": [
              "<Figure size 2160x1440 with 1 Axes>"
            ]
          },
          "metadata": {
            "needs_background": "light"
          },
          "output_type": "display_data"
        }
      ],
      "source": [
        "fig = plt.figure(figsize=(30,20))\n",
        "plt.bar(rank_list, wordlength_list_250, width = 0.5, color=\"lightpink\")\n",
        "plt.xticks(rotation = 90);\n",
        "plt.title(\"WORD LENGTH AND FREQUENCY OF WORDS\", size=22, fontweight = 'bold')\n",
        "plt.xlabel(\"RANKS\", size=1)\n",
        "plt.ylabel(\"WORD LENGTHS\", size=15);"
      ]
    },
    {
      "cell_type": "markdown",
      "id": "d2fa2ec3-c438-4f93-ba74-d96643b4b98b",
      "metadata": {
        "id": "d2fa2ec3-c438-4f93-ba74-d96643b4b98b"
      },
      "source": [
        "### Azul by Rubén Darío"
      ]
    },
    {
      "cell_type": "markdown",
      "id": "88224e61-c94e-4fef-a449-2eb116b0622f",
      "metadata": {
        "id": "88224e61-c94e-4fef-a449-2eb116b0622f"
      },
      "source": [
        "All the explanations for this part are the same as in the previous one."
      ]
    },
    {
      "cell_type": "code",
      "execution_count": null,
      "id": "dc0e0463-e2bd-48cd-bc5b-557b84591aa3",
      "metadata": {
        "id": "dc0e0463-e2bd-48cd-bc5b-557b84591aa3"
      },
      "outputs": [],
      "source": [
        "myfile = open(\"azul.txt\",'r', encoding='utf-8')"
      ]
    },
    {
      "cell_type": "code",
      "execution_count": null,
      "id": "215e360e-79b0-4e7d-ae62-66a340acde38",
      "metadata": {
        "id": "215e360e-79b0-4e7d-ae62-66a340acde38"
      },
      "outputs": [],
      "source": [
        "entire_book = myfile.read()"
      ]
    },
    {
      "cell_type": "code",
      "execution_count": null,
      "id": "e1a96669-6b8d-4a75-abf4-f0761d08009a",
      "metadata": {
        "id": "e1a96669-6b8d-4a75-abf4-f0761d08009a"
      },
      "outputs": [],
      "source": [
        "lower_case_text = entire_book.lower()"
      ]
    },
    {
      "cell_type": "code",
      "execution_count": null,
      "id": "01acef83-b853-4148-85f2-9d139f4f3fe2",
      "metadata": {
        "id": "01acef83-b853-4148-85f2-9d139f4f3fe2"
      },
      "outputs": [],
      "source": [
        "no_symbols = re.sub(\"[\\W_]\", \" \", lower_case_text)"
      ]
    },
    {
      "cell_type": "code",
      "execution_count": null,
      "id": "f84815dd-b304-46df-89dc-9de1f9624e3f",
      "metadata": {
        "id": "f84815dd-b304-46df-89dc-9de1f9624e3f"
      },
      "outputs": [],
      "source": [
        "list_text = re.findall(r\"\\b[\\w]+\\b\", no_symbols)"
      ]
    },
    {
      "cell_type": "code",
      "execution_count": null,
      "id": "c6a0eb01-cdfd-44e3-83b1-f5ccabaf3395",
      "metadata": {
        "id": "c6a0eb01-cdfd-44e3-83b1-f5ccabaf3395"
      },
      "outputs": [],
      "source": [
        "dict_count = {}\n",
        "for x in list_text:\n",
        "    if x not in dict_count:\n",
        "        dict_count[x] = 1\n",
        "    else:\n",
        "        dict_count[x] = dict_count[x] + 1"
      ]
    },
    {
      "cell_type": "code",
      "execution_count": null,
      "id": "f8298e4d-ee1a-41cc-ba39-633052479bf1",
      "metadata": {
        "id": "f8298e4d-ee1a-41cc-ba39-633052479bf1"
      },
      "outputs": [],
      "source": [
        "import operator\n",
        "from operator import itemgetter\n",
        "arranged_dict_count = dict(sorted(dict_count.items(), key=operator.itemgetter(1), reverse=True))"
      ]
    },
    {
      "cell_type": "markdown",
      "id": "3953376c-fa82-4bb1-96be-1f2714942efd",
      "metadata": {
        "id": "3953376c-fa82-4bb1-96be-1f2714942efd"
      },
      "source": [
        "### Calculating the means:"
      ]
    },
    {
      "cell_type": "code",
      "execution_count": null,
      "id": "1725e078-f546-4fb8-9730-874a62e12e1e",
      "metadata": {
        "id": "1725e078-f546-4fb8-9730-874a62e12e1e",
        "outputId": "32508c19-61e6-4257-f2ed-76151b342606"
      },
      "outputs": [
        {
          "data": {
            "text/plain": [
              "6923"
            ]
          },
          "execution_count": 26,
          "metadata": {},
          "output_type": "execute_result"
        }
      ],
      "source": [
        "word_lengths_list = []\n",
        "for x in arranged_dict_count:\n",
        "    word_lengths_list.append(len(x))\n",
        "len(word_lengths_list)"
      ]
    },
    {
      "cell_type": "code",
      "execution_count": null,
      "id": "2a8498fb-152c-4899-9052-fb732ff1f697",
      "metadata": {
        "id": "2a8498fb-152c-4899-9052-fb732ff1f697"
      },
      "outputs": [],
      "source": [
        "### 50 first and 50 last words - means:"
      ]
    },
    {
      "cell_type": "code",
      "execution_count": null,
      "id": "a49fbf30-ad16-4bbf-b804-ad930aee5d77",
      "metadata": {
        "id": "a49fbf30-ad16-4bbf-b804-ad930aee5d77",
        "outputId": "2f8682d1-a888-4b2f-a201-5ff1f08b41ad"
      },
      "outputs": [
        {
          "data": {
            "text/plain": [
              "3.0"
            ]
          },
          "execution_count": 28,
          "metadata": {},
          "output_type": "execute_result"
        }
      ],
      "source": [
        "word_length_50_first_list = word_lengths_list[0:50]\n",
        "sum(word_length_50_first_list) / len(word_length_50_first_list)"
      ]
    },
    {
      "cell_type": "code",
      "execution_count": null,
      "id": "28d611a3-fde6-457c-a248-a67ec1243122",
      "metadata": {
        "id": "28d611a3-fde6-457c-a248-a67ec1243122",
        "outputId": "11edcc5a-cfe8-4621-b636-6711227be47f"
      },
      "outputs": [
        {
          "data": {
            "text/plain": [
              "7.0"
            ]
          },
          "execution_count": 29,
          "metadata": {},
          "output_type": "execute_result"
        }
      ],
      "source": [
        "word_length_50_last_list = word_lengths_list[-50:]\n",
        "sum(word_length_50_last_list) / len(word_length_50_last_list)"
      ]
    },
    {
      "cell_type": "markdown",
      "id": "e9b9591a-5014-4d25-b42c-bfedf73dfef2",
      "metadata": {
        "id": "e9b9591a-5014-4d25-b42c-bfedf73dfef2"
      },
      "source": [
        "### Creating the graph:"
      ]
    },
    {
      "cell_type": "code",
      "execution_count": null,
      "id": "0bd931c1-3d12-47f2-bf0a-2d0a5606ea77",
      "metadata": {
        "tags": [],
        "id": "0bd931c1-3d12-47f2-bf0a-2d0a5606ea77"
      },
      "outputs": [],
      "source": [
        "wordlength_list = []\n",
        "for x in arranged_dict_count:\n",
        "    wordlength_list.append(len(x))"
      ]
    },
    {
      "cell_type": "code",
      "execution_count": null,
      "id": "ad697011-9f2c-4b08-8986-7a0fa73ae143",
      "metadata": {
        "id": "ad697011-9f2c-4b08-8986-7a0fa73ae143"
      },
      "outputs": [],
      "source": [
        "wordlength_list_250 = wordlength_list[0:250]"
      ]
    },
    {
      "cell_type": "code",
      "execution_count": null,
      "id": "b80d6181-da43-4938-b60f-032ee950b41a",
      "metadata": {
        "tags": [],
        "id": "b80d6181-da43-4938-b60f-032ee950b41a"
      },
      "outputs": [],
      "source": [
        "rank_list = []\n",
        "for x in range(1,251):\n",
        "    string = \"rank \" + str(x)\n",
        "    rank_list.append(string)"
      ]
    },
    {
      "cell_type": "code",
      "execution_count": null,
      "id": "12f1c55e-005f-4237-8c1c-8859f80d7125",
      "metadata": {
        "id": "12f1c55e-005f-4237-8c1c-8859f80d7125"
      },
      "outputs": [],
      "source": [
        "import matplotlib.pyplot as plt"
      ]
    },
    {
      "cell_type": "code",
      "execution_count": null,
      "id": "2d3ef88f-299e-403a-aa53-85db83a1334d",
      "metadata": {
        "id": "2d3ef88f-299e-403a-aa53-85db83a1334d",
        "outputId": "5f7f43a5-fa08-4abb-87cb-7fc28e4739db"
      },
      "outputs": [
        {
          "data": {
            "image/png": "[encoded data removed]",
            "text/plain": [
              "<Figure size 2160x1080 with 1 Axes>"
            ]
          },
          "metadata": {
            "needs_background": "light"
          },
          "output_type": "display_data"
        }
      ],
      "source": [
        "fig = plt.figure(figsize=(30,15))\n",
        "plt.bar(rank_list, wordlength_list_250, width = 0.5, color=\"lightpink\")\n",
        "plt.xticks(rotation = 90);\n",
        "plt.title(\"WORD LENGTH AND FREQUENCY OF WORDS\", size=22, fontweight = 'bold')\n",
        "plt.xlabel(\"RANKS\", size=15)\n",
        "plt.ylabel(\"WORD LENGTHS\", size=15);"
      ]
    },
    {
      "cell_type": "code",
      "execution_count": null,
      "id": "08a84b08-5878-40f8-84dd-6eab5579dbb0",
      "metadata": {
        "id": "08a84b08-5878-40f8-84dd-6eab5579dbb0"
      },
      "outputs": [],
      "source": []
    },
    {
      "cell_type": "code",
      "execution_count": null,
      "id": "8c2a120a-72b1-4de5-86bd-9fa4c0793154",
      "metadata": {
        "id": "8c2a120a-72b1-4de5-86bd-9fa4c0793154"
      },
      "outputs": [],
      "source": []
    },
    {
      "cell_type": "code",
      "execution_count": null,
      "id": "7b4ee926-78e3-4594-9efe-89fc807acfb8",
      "metadata": {
        "id": "7b4ee926-78e3-4594-9efe-89fc807acfb8"
      },
      "outputs": [],
      "source": []
    }
  ],
  "metadata": {
    "kernelspec": {
      "display_name": "Python 3 (ipykernel)",
      "language": "python",
      "name": "python3"
    },
    "language_info": {
      "codemirror_mode": {
        "name": "ipython",
        "version": 3
      },
      "file_extension": ".py",
      "mimetype": "text/x-python",
      "name": "python",
      "nbconvert_exporter": "python",
      "pygments_lexer": "ipython3",
      "version": "3.9.12"
    },
    "colab": {
      "provenance": [],
      "include_colab_link": true
    }
  },
  "nbformat": 4,
  "nbformat_minor": 5
}